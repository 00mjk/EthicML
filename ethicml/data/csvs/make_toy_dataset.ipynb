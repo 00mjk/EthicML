{
 "cells": [
  {
   "cell_type": "code",
   "execution_count": null,
   "metadata": {},
   "outputs": [],
   "source": [
    "import numpy as np\n",
    "import random\n",
    "import pandas as pd\n",
    "import seaborn as sns"
   ]
  },
  {
   "cell_type": "code",
   "execution_count": null,
   "metadata": {},
   "outputs": [],
   "source": [
    "SEED = 888\n",
    "SAMPLES = 2000\n",
    "np.random.seed(SEED)\n",
    "random.seed(SEED)"
   ]
  },
  {
   "cell_type": "code",
   "execution_count": 3,
   "metadata": {},
   "outputs": [],
   "source": [
    "a1_g1 = np.random.randn(SAMPLES//2) - 0.1\n",
    "a1_g2 = np.random.randn(SAMPLES//2) + 0.5\n",
    "\n",
    "a2_g1 = np.random.randn(SAMPLES//2)*0.9\n",
    "a2_g2 = np.random.randn(SAMPLES//2)*1.1\n",
    "\n",
    "disc_1 = np.random.choice(['a', 'b', 'c', 'd', 'e'], SAMPLES)\n",
    "disc_2 = np.random.choice(['x', 'y', 'z'], SAMPLES)\n",
    "\n",
    "sensitive_attr_g1 = np.full(a1_g1.shape, 0)\n",
    "sensitive_attr_g2 = np.full(a1_g2.shape, 1)\n",
    "a1 = np.concatenate((a1_g1, a1_g2))\n",
    "a2 = np.concatenate((a2_g1, a2_g2))\n",
    "sensitive_attr = np.concatenate((sensitive_attr_g1, sensitive_attr_g2))\n",
    "\n",
    "# There has to be a better way of dong this.\n",
    "decision = [1 if v > 0 else 0 for v in a1+a2 > 0]\n",
    "df = pd.DataFrame(data={\n",
    "    \"decision\": decision,\n",
    "    \"sensitive-attr\": sensitive_attr,\n",
    "    \"a1\": a1,\n",
    "    \"a2\": a2,\n",
    "    \"disc_1\": disc_1,\n",
    "    \"disc_2\": disc_2\n",
    "    })"
   ]
  },
  {
   "cell_type": "code",
   "execution_count": 4,
   "metadata": {},
   "outputs": [],
   "source": [
    "df = pd.get_dummies(df)"
   ]
  },
  {
   "cell_type": "code",
   "execution_count": 5,
   "metadata": {},
   "outputs": [],
   "source": [
    "# Shuffle the data\n",
    "df = df.sample(frac=1.0, random_state=SEED).reset_index(drop=True)"
   ]
  },
  {
   "cell_type": "code",
   "execution_count": 7,
   "metadata": {},
   "outputs": [],
   "source": [
    "# Save the CSV\n",
    "df.to_csv(\"./toy.csv\", index=False)"
   ]
  },
  {
   "cell_type": "code",
   "execution_count": null,
   "metadata": {},
   "outputs": [],
   "source": []
  }
 ],
 "metadata": {
  "kernelspec": {
   "display_name": "ethint",
   "language": "python",
   "name": "ethint"
  },
  "language_info": {
   "codemirror_mode": {
    "name": "ipython",
    "version": 3
   },
   "file_extension": ".py",
   "mimetype": "text/x-python",
   "name": "python",
   "nbconvert_exporter": "python",
   "pygments_lexer": "ipython3",
   "version": "3.8.1"
  }
 },
 "nbformat": 4,
 "nbformat_minor": 4
}
